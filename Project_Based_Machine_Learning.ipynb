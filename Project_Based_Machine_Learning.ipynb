{
  "nbformat": 4,
  "nbformat_minor": 0,
  "metadata": {
    "colab": {
      "name": "Project_Based_Machine_Learning.ipynb",
      "provenance": [],
      "authorship_tag": "ABX9TyN8T6Yz5+YP9FkQCrS7xboI",
      "include_colab_link": true
    },
    "kernelspec": {
      "name": "python3",
      "display_name": "Python 3"
    },
    "language_info": {
      "name": "python"
    }
  },
  "cells": [
    {
      "cell_type": "markdown",
      "metadata": {
        "id": "view-in-github",
        "colab_type": "text"
      },
      "source": [
        "<a href=\"https://colab.research.google.com/github/mayank458746/Basics_of_Python/blob/main/Project_Based_Machine_Learning.ipynb\" target=\"_parent\"><img src=\"https://colab.research.google.com/assets/colab-badge.svg\" alt=\"Open In Colab\"/></a>"
      ]
    },
    {
      "cell_type": "markdown",
      "source": [
        "#Started on 28 May 2022\n",
        "\n",
        "Github Profile :- https://github.com/mayank458746\n",
        "\n",
        "Coding Practice :-  mayank458746.blogspot.com"
      ],
      "metadata": {
        "id": "kcmm9nDa9oDf"
      }
    },
    {
      "cell_type": "markdown",
      "source": [
        "Time Period -  10 days\n",
        "\n",
        "1) Basic of Programming - mayank458746.blogspot.com and Youtube lectures\n"
      ],
      "metadata": {
        "id": "J0_Mc-q590hv"
      }
    },
    {
      "cell_type": "markdown",
      "source": [
        "2) How to use Google Colab - 1 day"
      ],
      "metadata": {
        "id": "ZE2VDOux-vAk"
      }
    },
    {
      "cell_type": "markdown",
      "source": [
        "3) Basics of Python - 1 week"
      ],
      "metadata": {
        "id": "_y0XTr1K-Htl"
      }
    },
    {
      "cell_type": "markdown",
      "source": [
        "4) Basics for Machine Learning :- \n",
        "\n",
        "a) NumPy - 2 Days\n",
        "\n",
        "b) Pandas - 2 Days\n",
        "\n",
        "c) MatPlotLib - 2 Days\n",
        "\n",
        "d) Seaborn - 2 days"
      ],
      "metadata": {
        "id": "RSv2M-9S_ICT"
      }
    },
    {
      "cell_type": "markdown",
      "source": [
        "5) Coding practise - 2-3 Days\n"
      ],
      "metadata": {
        "id": "nk4hxt2T_2Vi"
      }
    },
    {
      "cell_type": "markdown",
      "source": [
        "6) Started working on projects - 10 days"
      ],
      "metadata": {
        "id": "NEgQLH31BvB_"
      }
    },
    {
      "cell_type": "markdown",
      "source": [
        "a) Text xtraction from image\n",
        "\n",
        "b) MNSIT Digit Classification(Module)\n",
        "\n",
        "c) Number Plate Recogniton "
      ],
      "metadata": {
        "id": "Z56wfvhrB8K2"
      }
    },
    {
      "cell_type": "markdown",
      "source": [
        "7) Learning OpenCv - 1 Week"
      ],
      "metadata": {
        "id": "APIgALUoAYWp"
      }
    },
    {
      "cell_type": "markdown",
      "source": [
        "8) Face Recognition"
      ],
      "metadata": {
        "id": "t6Em7t5oCsYG"
      }
    },
    {
      "cell_type": "markdown",
      "source": [
        "9) Some Machine Learning Projects -\n",
        "\n",
        "a) Diabetes Prediction\n",
        "\n",
        "b) Car price prediction \n",
        "\n",
        "c) Heart Disease prediction\n",
        "\n",
        "d) Rock vs Mine prediction\n",
        "\n",
        "e) Movie Recommendation System\n"
      ],
      "metadata": {
        "id": "aStN_sofC1sd"
      }
    },
    {
      "cell_type": "markdown",
      "source": [
        "10) GitHub and Pycharm"
      ],
      "metadata": {
        "id": "5a7k27UbEWRZ"
      }
    },
    {
      "cell_type": "markdown",
      "source": [
        "11) To Computer Vision(Hand Tracking) :-\n",
        "\n",
        "a) AI Virtual Mouse\n",
        "\n",
        "b) AI Virtual KeyBoard\n",
        "\n",
        "c) Guesture PPT Control\n"
      ],
      "metadata": {
        "id": "l18x5NSIDUlD"
      }
    }
  ]
}